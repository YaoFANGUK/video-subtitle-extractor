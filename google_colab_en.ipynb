{
 "cells": [
  {
   "cell_type": "markdown",
   "metadata": {
    "id": "WAJ7lA2wuvR8",
    "pycharm": {
     "name": "#%% md\n"
    }
   },
   "source": [
    "# Set Up\n",
    "\n",
    "1. click “Edit” -> \"Notebook Settings\" -> \"Hardware accelerator, GPU\" -> Save\n",
    "<img src=\"https://z3.ax1x.com/2021/03/30/ciQWWV.png\">\n",
    "\n",
    "2. Click the folder icon on the left, upload your video file, and copy the uploaded video path\n",
    "\n",
    "<img src=\"https://z3.ax1x.com/2021/03/30/cilvhq.png\">\n",
    "\n",
    "3. Run the code, enter the pasted video path\n",
    "\n",
    "\n"
   ]
  },
  {
   "cell_type": "markdown",
   "metadata": {
    "id": "_jPi_FBwyZyr",
    "pycharm": {
     "name": "#%% md\n"
    }
   },
   "source": [
    "check whether GPU works"
   ]
  },
  {
   "cell_type": "code",
   "execution_count": null,
   "metadata": {
    "id": "eHPHc_Bheo-j",
    "pycharm": {
     "name": "#%%\n"
    }
   },
   "outputs": [],
   "source": [
    "!nvidia-smi"
   ]
  },
  {
   "cell_type": "code",
   "execution_count": null,
   "metadata": {
    "id": "TkQKKGKZkkT2",
    "pycharm": {
     "name": "#%%\n"
    }
   },
   "outputs": [],
   "source": [
    "!nvcc -V"
   ]
  },
  {
   "cell_type": "markdown",
   "metadata": {
    "id": "_85O6zgPyhto",
    "pycharm": {
     "name": "#%% md\n"
    }
   },
   "source": [
    "# Install Dependencies"
   ]
  },
  {
   "cell_type": "code",
   "execution_count": null,
   "metadata": {
    "id": "ICeq0T1FeqjT",
    "pycharm": {
     "name": "#%%\n"
    }
   },
   "outputs": [],
   "source": [
    "!git clone https://github.com/YaoFANGUK/video-subtitle-extractor.git"
   ]
  },
  {
   "cell_type": "code",
   "execution_count": null,
   "metadata": {
    "id": "GHutEWynkMKR",
    "pycharm": {
     "name": "#%%\n"
    }
   },
   "outputs": [],
   "source": [
    "cd video-subtitle-extractor"
   ]
  },
  {
   "cell_type": "code",
   "execution_count": null,
   "metadata": {
    "id": "ynJydzo1kMKR",
    "pycharm": {
     "name": "#%%\n"
    }
   },
   "outputs": [],
   "source": [
    "!pip install -r requirements_gpu.txt"
   ]
  },
  {
   "cell_type": "code",
   "execution_count": null,
   "metadata": {
    "id": "3-GdvmaGl-aF",
    "pycharm": {
     "name": "#%%\n"
    }
   },
   "outputs": [],
   "source": [
    "!pip install paddlepaddle-gpu==2.1.0"
   ]
  },
  {
   "cell_type": "markdown",
   "metadata": {
    "id": "SGb0i3tPyw9Q",
    "pycharm": {
     "name": "#%% md\n"
    }
   },
   "source": [
    "# Run"
   ]
  },
  {
   "cell_type": "markdown",
   "metadata": {
    "pycharm": {
     "name": "#%% md\n"
    }
   },
   "source": [
    "Here is an example:\n",
    "\n",
    "input video path: /content/test.mp4\n",
    "\n",
    "input subtitle area: 894 1052 152 1264"
   ]
  },
  {
   "cell_type": "code",
   "execution_count": null,
   "metadata": {
    "id": "B2MPjMOOgGbD",
    "pycharm": {
     "name": "#%%\n"
    }
   },
   "outputs": [],
   "source": [
    "!python ./backend/main.py"
   ]
  }
 ],
 "metadata": {
  "accelerator": "GPU",
  "colab": {
   "collapsed_sections": [],
   "name": "video-subtitle-extractor.ipynb",
   "provenance": []
  },
  "kernelspec": {
   "display_name": "Python 3 (ipykernel)",
   "language": "python",
   "name": "python3"
  },
  "language_info": {
   "codemirror_mode": {
    "name": "ipython",
    "version": 3
   },
   "file_extension": ".py",
   "mimetype": "text/x-python",
   "name": "python",
   "nbconvert_exporter": "python",
   "pygments_lexer": "ipython3",
   "version": "3.8.5"
  }
 },
 "nbformat": 4,
 "nbformat_minor": 1
}
